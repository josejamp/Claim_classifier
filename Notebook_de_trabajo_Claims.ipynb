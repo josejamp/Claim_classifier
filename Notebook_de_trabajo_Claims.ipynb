{
 "cells": [
  {
   "cell_type": "markdown",
   "metadata": {},
   "source": [
    "# Estudio Inicial\n",
    "\n",
    "Se comienza explorando el dataset para encontrar características particulares e identificar posibles problemas en las posteriores fases de preparación del dataset y entrenamiento del modelo."
   ]
  },
  {
   "cell_type": "code",
   "execution_count": 24,
   "metadata": {},
   "outputs": [
    {
     "data": {
      "text/html": [
       "<div>\n",
       "<style scoped>\n",
       "    .dataframe tbody tr th:only-of-type {\n",
       "        vertical-align: middle;\n",
       "    }\n",
       "\n",
       "    .dataframe tbody tr th {\n",
       "        vertical-align: top;\n",
       "    }\n",
       "\n",
       "    .dataframe thead th {\n",
       "        text-align: right;\n",
       "    }\n",
       "</style>\n",
       "<table border=\"1\" class=\"dataframe\">\n",
       "  <thead>\n",
       "    <tr style=\"text-align: right;\">\n",
       "      <th></th>\n",
       "      <th>text_es</th>\n",
       "      <th>text_en</th>\n",
       "      <th>text_fr</th>\n",
       "      <th>claim</th>\n",
       "    </tr>\n",
       "  </thead>\n",
       "  <tbody>\n",
       "    <tr>\n",
       "      <th>0</th>\n",
       "      <td>Gracias.</td>\n",
       "      <td>Thank you.</td>\n",
       "      <td>Merci.</td>\n",
       "      <td>0</td>\n",
       "    </tr>\n",
       "    <tr>\n",
       "      <th>1</th>\n",
       "      <td>Entonces como solo creo que es como la políti...</td>\n",
       "      <td>So as I just think it's like the politics of ...</td>\n",
       "      <td>Donc, comme je pense que c’est comme la polit...</td>\n",
       "      <td>0</td>\n",
       "    </tr>\n",
       "    <tr>\n",
       "      <th>2</th>\n",
       "      <td>Y pienso que el Partido Popular no ha estado ...</td>\n",
       "      <td>And I think the People's Party has not risen ...</td>\n",
       "      <td>Et je pense que le Parti populaire n’a pas ét...</td>\n",
       "      <td>0</td>\n",
       "    </tr>\n",
       "    <tr>\n",
       "      <th>3</th>\n",
       "      <td>Lo siguiente Nos vamos ya volando y les dejo ...</td>\n",
       "      <td>The next thing We fly and I leave you with th...</td>\n",
       "      <td>La prochaine chose que nous volons et je vous...</td>\n",
       "      <td>0</td>\n",
       "    </tr>\n",
       "    <tr>\n",
       "      <th>4</th>\n",
       "      <td>Mala noticia para para el el mundo verde, par...</td>\n",
       "      <td>Bad news for the green world, for environment...</td>\n",
       "      <td>Mauvaise nouvelle pour le monde vert, pour l’...</td>\n",
       "      <td>0</td>\n",
       "    </tr>\n",
       "  </tbody>\n",
       "</table>\n",
       "</div>"
      ],
      "text/plain": [
       "                                             text_es  \\\n",
       "0                                           Gracias.   \n",
       "1   Entonces como solo creo que es como la políti...   \n",
       "2   Y pienso que el Partido Popular no ha estado ...   \n",
       "3   Lo siguiente Nos vamos ya volando y les dejo ...   \n",
       "4   Mala noticia para para el el mundo verde, par...   \n",
       "\n",
       "                                             text_en  \\\n",
       "0                                         Thank you.   \n",
       "1   So as I just think it's like the politics of ...   \n",
       "2   And I think the People's Party has not risen ...   \n",
       "3   The next thing We fly and I leave you with th...   \n",
       "4   Bad news for the green world, for environment...   \n",
       "\n",
       "                                             text_fr  claim  \n",
       "0                                             Merci.      0  \n",
       "1   Donc, comme je pense que c’est comme la polit...      0  \n",
       "2   Et je pense que le Parti populaire n’a pas ét...      0  \n",
       "3   La prochaine chose que nous volons et je vous...      0  \n",
       "4   Mauvaise nouvelle pour le monde vert, pour l’...      0  "
      ]
     },
     "execution_count": 24,
     "metadata": {},
     "output_type": "execute_result"
    }
   ],
   "source": [
    "import pandas as pd\n",
    "\n",
    "#Constants definition\n",
    "# Csv exported from the Mongodb claim collection with mongoexport\n",
    "CSV_PATH = './resources/claims.csv'\n",
    "\n",
    "df = pd.read_csv(CSV_PATH, sep = \",\")\n",
    "df.head()"
   ]
  },
  {
   "cell_type": "markdown",
   "metadata": {},
   "source": [
    "A continuación vemos la distribución de textos verificables y no verificables:"
   ]
  },
  {
   "cell_type": "code",
   "execution_count": 25,
   "metadata": {},
   "outputs": [
    {
     "data": {
      "text/plain": [
       "<matplotlib.axes._subplots.AxesSubplot at 0x21e2b24da88>"
      ]
     },
     "execution_count": 25,
     "metadata": {},
     "output_type": "execute_result"
    },
    {
     "data": {
      "image/png": "[encoded data removed]",
      "text/plain": [
       "<Figure size 432x288 with 1 Axes>"
      ]
     },
     "metadata": {},
     "output_type": "display_data"
    }
   ],
   "source": [
    "#Column name definition\n",
    "SPANISH_TEXT_COLUMN = 'text_es'\n",
    "ENGLISH_TEXT_COLUMN = 'text_en'\n",
    "FRENCH_TEXT_COLUMN = 'text_fr'\n",
    "CLAIM_COLUMN = 'claim'\n",
    "\n",
    "df[CLAIM_COLUMN].hist()"
   ]
  },
  {
   "cell_type": "markdown",
   "metadata": {},
   "source": [
    "Se puede observar que las tipologías no están equilibradas en cuanto al número de ejemplos. Esto afecta directamente a la fase de entrenamiento del modelo. Dificilmente se obtendrá un buen resultado usando todos los ejemplos del dataset, será mejor reducir el número de ejemplos de textos no verificables.\n",
    "\n",
    "Tras esto, se comprueba el número de palabras más repetidas para cada tipología."
   ]
  },
  {
   "cell_type": "code",
   "execution_count": 26,
   "metadata": {},
   "outputs": [
    {
     "data": {
      "text/plain": [
       "{'text_es': {0: [('gobierno', 1045),\n",
       "   ('si', 896),\n",
       "   ('partido', 793),\n",
       "   ('creo', 779),\n",
       "   ('españa', 667),\n",
       "   ('bueno', 525),\n",
       "   ('va', 505),\n",
       "   ('hacer', 479),\n",
       "   ('popular', 476),\n",
       "   ('ser', 475)],\n",
       "  1: [('españa', 147),\n",
       "   ('ciento', 132),\n",
       "   ('gobierno', 128),\n",
       "   ('partido', 106),\n",
       "   ('millones', 105),\n",
       "   ('año', 74),\n",
       "   ('país', 72),\n",
       "   ('dos', 67),\n",
       "   ('países', 63),\n",
       "   ('euros', 63)]},\n",
       " 'text_en': {0: [('also', 1086),\n",
       "   ('government', 1040),\n",
       "   ('think', 854),\n",
       "   ('party', 780),\n",
       "   ('us', 763),\n",
       "   ('people', 762),\n",
       "   ('well', 761),\n",
       "   ('going', 674),\n",
       "   ('spain', 665),\n",
       "   ('one', 635)],\n",
       "  1: [('spain', 145),\n",
       "   ('government', 129),\n",
       "   ('also', 119),\n",
       "   ('party', 103),\n",
       "   ('people', 96),\n",
       "   ('health', 94),\n",
       "   ('already', 93),\n",
       "   ('country', 78),\n",
       "   ('percent', 73),\n",
       "   ('last', 70)]},\n",
       " 'text_fr': {0: [('cette', 1140),\n",
       "   ('être', 1094),\n",
       "   ('plus', 1088),\n",
       "   ('parce', 1049),\n",
       "   ('gouvernement', 1025),\n",
       "   ('bien', 962),\n",
       "   ('très', 934),\n",
       "   ('comme', 887),\n",
       "   ('si', 827),\n",
       "   ('aussi', 775)],\n",
       "  1: [('plus', 220),\n",
       "   ('pays', 142),\n",
       "   ('comme', 131),\n",
       "   ('gouvernement', 130),\n",
       "   ('espagne', 125),\n",
       "   ('parti', 101),\n",
       "   ('fait', 101),\n",
       "   ('déjà', 93),\n",
       "   ('cette', 90),\n",
       "   ('parce', 89)]}}"
      ]
     },
     "execution_count": 26,
     "metadata": {},
     "output_type": "execute_result"
    }
   ],
   "source": [
    "from sklearn.feature_extraction.text import CountVectorizer\n",
    "from nltk.corpus import stopwords\n",
    "\n",
    "\n",
    "'''\n",
    "Taken and adapted from: https://medium.com/@cristhianboujon/how-to-list-the-most-common-words-from-text-corpus-using-scikit-learn-dad4d0cab41d\n",
    "Remove stop words to find the important words\n",
    "'''\n",
    "def n_most_frequent_words(corpus, n, lang):\n",
    "    if lang=='ALL':\n",
    "        all_stop_words = stopwords.words('spanish') + stopwords.words('english') + stopwords.words('french')\n",
    "        vectorizer = CountVectorizer(stop_words=all_stop_words)\n",
    "    else:\n",
    "        vectorizer = CountVectorizer(stop_words=stopwords.words(lang))\n",
    "    bag_of_words = vectorizer.fit_transform(corpus)\n",
    "    sum_words = bag_of_words.sum(axis=0) \n",
    "    words_freq = [(word, sum_words[0, idx]) for word, idx in vectorizer.vocabulary_.items()]\n",
    "    words_freq =sorted(words_freq, key = lambda x: x[1], reverse=True)\n",
    "    return words_freq[:n]\n",
    "\n",
    "\n",
    "# Group by label column, get the most frequent words for every language\n",
    "unique_values = df[CLAIM_COLUMN].unique()\n",
    "grouped = df.groupby(CLAIM_COLUMN)\n",
    "most_frequent = {SPANISH_TEXT_COLUMN: {}, ENGLISH_TEXT_COLUMN: {}, FRENCH_TEXT_COLUMN: {}}\n",
    "for unique in unique_values:\n",
    "    spanish_rows = grouped[SPANISH_TEXT_COLUMN].get_group(unique)\n",
    "    english_rows = grouped[ENGLISH_TEXT_COLUMN].get_group(unique)\n",
    "    french_rows = grouped[FRENCH_TEXT_COLUMN].get_group(unique)\n",
    "    most_frequent[SPANISH_TEXT_COLUMN][unique] = n_most_frequent_words(spanish_rows.values.astype('U'), 10, 'spanish')\n",
    "    most_frequent[ENGLISH_TEXT_COLUMN][unique] = n_most_frequent_words(english_rows.values.astype('U'), 10, 'english')\n",
    "    most_frequent[FRENCH_TEXT_COLUMN][unique] = n_most_frequent_words(french_rows.values.astype('U'), 10, 'french')\n",
    "    \n",
    "most_frequent"
   ]
  },
  {
   "cell_type": "markdown",
   "metadata": {},
   "source": [
    "Se puede observar que para ambas tipologías aparecen repetidas las mismas palabras, como \"españa\", \"gobierno\" y \"partido\". Esto nos indica que técnicas de *embedding* como *bag-of-words* o *TF-IDF* no son adecuadas para resolver este problema, y parece más indicado a ser resuelto con técnicas de *embedding* que tengan en cuenta el contexto, como BERT.\n",
    "\n",
    "Para comprobar esto, se puede hacer una pequeña comprobación inicial del contexto que acompaña a las palabras problemáticas según si el texto es verificable o no. Se van a eliminar las *stop-words* para ver las palabras."
   ]
  },
  {
   "cell_type": "code",
   "execution_count": 27,
   "metadata": {},
   "outputs": [
    {
     "name": "stdout",
     "output_type": "stream",
     "text": [
      "-----------------------------\n",
      "Claim:  0 . Word:  españa\n",
      "-----------------------------\n",
      "Displaying 5 of 528 matches:\n",
      "io cuestiones judiciales abiertas.. España cabemos igualdad españoles cohesión\n",
      "rno quitarle despojarle título real España ? . verdad parece aquí.. Ud cree co\n",
      " , . , creo amplitud partido grande España , permite hoy tener personas refere\n",
      "ones Comisión Reconstrucción.. Aquí España haríamos misma prueba poder volar p\n",
      " esperamos hoy acuerdo buen acuerdo España agradecemos solidaridad miembros Un\n",
      "-----------------------------\n",
      "Claim:  1 . Word:  españa\n",
      "-----------------------------\n",
      "Displaying 5 of 129 matches:\n",
      "víctimas.. aportación hace Gobierno España 6 ciento hace Gobierno holandés.. p\n",
      "ncuestas dicen sacaríamos escaños.. España segundo país Unión Europea creciend\n",
      "n 80 ciento Andalucía años.. cambio España habla , pues país ido.. Datos llega\n",
      "os llegada turistas internacionales España mes junio llegaron apenas 204000 tu\n",
      "punto vista estabilización región , España hace tiempo primer contribuyente mi\n",
      "-----------------------------\n",
      "Claim:  0 . Word:  gobierno\n",
      "-----------------------------\n",
      "Displaying 5 of 920 matches:\n",
      "iría celebramos acuerdo Bruselas , Gobierno cambiar modelo , modelo política v\n",
      "o agua fría brotes verdes cantando gobierno Sánchez.. también.. años además , \n",
      "amente contundentemente.. pensando Gobierno quitarle despojarle título real Es\n",
      "minado resolverse clara , vacuna.. Gobierno puesto encima mesa reiteradas ocas\n",
      "es meses vota . acompañan delegada Gobierno Andalucía , subdelegado Gobierno C\n",
      "-----------------------------\n",
      "Claim:  1 . Word:  gobierno\n",
      "-----------------------------\n",
      "Displaying 5 of 121 matches:\n",
      "ada año víctimas.. aportación hace Gobierno España 6 ciento hace Gobierno hola\n",
      "hace Gobierno España 6 ciento hace Gobierno holandés.. pasando sabiendo vuelos\n",
      "fiesto Congreso Diputados controla Gobierno España , controla Jefatura Estado.\n",
      "n Española Municipios Provincias.. Gobierno anterior , volcó recursos industri\n",
      "mento precio energético.. supuesto Gobierno España , conjunto comunidades autó\n",
      "-----------------------------\n",
      "Claim:  0 . Word:  partido\n",
      "-----------------------------\n",
      "Displaying 5 of 770 matches:\n",
      "conómica , política social.. pienso Partido Popular altura circunstancias.. sig\n",
      "espués.. valoraciones hacen ustedes Partido Popular informaciones conocido últi\n",
      "rporando digo.. , . , creo amplitud partido grande España , permite hoy tener p\n",
      "ser creíble ser humilde.. Menos mal Partido Popular PSOE , medio pandemia ésta \n",
      " marchar publicidad.. primero decir Partido Popular esperamos hoy acuerdo buen \n",
      "-----------------------------\n",
      "Claim:  1 . Word:  partido\n",
      "-----------------------------\n",
      "Displaying 5 of 99 matches:\n",
      "saje importante Guernica Guernica , Partido Popular junto Ciudadanos demostraro\n",
      "oría encuestas dicen empate técnico Partido Socialista incluso encuestas dicen \n",
      "hora mismo líderes oposición primer partido Cataluña . siete millones españoles\n",
      "coalición acabar corresponsabilidad Partido Nacionalista Vasco haber colocado S\n",
      "ro desgraciadamente quedado nueve.. Partido Popular presentado propuesta , volv\n"
     ]
    }
   ],
   "source": [
    "import nltk\n",
    "from nltk.tokenize import word_tokenize\n",
    "from nltk.corpus import stopwords\n",
    "\n",
    "\n",
    "conflictive_words = [\"españa\", \"gobierno\", \"partido\"]\n",
    "stops = set(stopwords.words(\"spanish\"))\n",
    "\n",
    "unique_values = df[CLAIM_COLUMN].unique()\n",
    "grouped = df.groupby(CLAIM_COLUMN)\n",
    "for word in conflictive_words:\n",
    "    for unique in unique_values:\n",
    "        spanish_rows = grouped[SPANISH_TEXT_COLUMN].get_group(unique)\n",
    "        text = spanish_rows.str.cat(sep='. ')\n",
    "        tokens = word_tokenize(text)\n",
    "        filtered_tokens = [word for word in tokens if word.lower() not in stops]\n",
    "        print(\"-----------------------------\")\n",
    "        print(\"Claim: \", unique, \". Word: \", word)\n",
    "        print(\"-----------------------------\")\n",
    "        nltk.Text(filtered_tokens).concordance(word, lines=5)"
   ]
  },
  {
   "cell_type": "markdown",
   "metadata": {},
   "source": [
    "Realizando un pequeño análisis de los resultados anteriores, se puede observar cómo en aquellos textos verificables hay una mayor presencia de cifras numéricas y porcentajes con respecto a los textos no verificables.\n",
    "\n",
    "Esto se puede ver por ejemplo ver en los textos verificables: \"*80 ciento Andalucía años.. cambio España habla , pues país ido.. Datos llega*\", \"*llegada turistas internacionales España mes junio llegaron apenas 204000*\" o \"*hace Gobierno España 6 ciento hace Gobierno holandés.. pasando sabiendo vuelos*\""
   ]
  },
  {
   "cell_type": "markdown",
   "metadata": {},
   "source": [
    "A continuación buscamos cadenas de caracteres como correos electrónicos o URLs que debamos normalizar:"
   ]
  },
  {
   "cell_type": "code",
   "execution_count": 28,
   "metadata": {},
   "outputs": [
    {
     "data": {
      "text/plain": [
       "4996     Y hay que recordar con el voto sólo a favor del Partido Socialista y en contra del Partido Popular de Ciudadanos de junt@s.\n",
       "Name: text_es, dtype: object"
      ]
     },
     "execution_count": 28,
     "metadata": {},
     "output_type": "execute_result"
    }
   ],
   "source": [
    "pd.set_option('max_colwidth', 300)\n",
    "df[df[SPANISH_TEXT_COLUMN].str.contains(\"@\")][SPANISH_TEXT_COLUMN]"
   ]
  },
  {
   "cell_type": "code",
   "execution_count": 29,
   "metadata": {},
   "outputs": [
    {
     "data": {
      "text/plain": [
       "Series([], Name: text_es, dtype: object)"
      ]
     },
     "execution_count": 29,
     "metadata": {},
     "output_type": "execute_result"
    }
   ],
   "source": [
    "df[df[SPANISH_TEXT_COLUMN].str.contains(\"www\")][SPANISH_TEXT_COLUMN]"
   ]
  },
  {
   "cell_type": "markdown",
   "metadata": {},
   "source": [
    "No parece haber URLs ni direcciones email en el dataset. La limpieza o normalización de estas cadenas no será necesaria, aunque en un problema real realizar la limpieza no estaría de más."
   ]
  },
  {
   "cell_type": "markdown",
   "metadata": {},
   "source": [
    "## Conclusión\n",
    "\n",
    "Una vez realizado este estudio de los datos hay varias consideraciones a tener en cuenta:\n",
    "- **Embedding**: debido a la importancia del contexto, se ha de utilizar técnicas que tenga en cuenta el contexto, como BERT\n",
    "- **Stop-words**: igualmente, por la importancia del contexto, y como se han descartado los embeddings del estilo *bag-of-words* o *TF-IDF*, a priori no parece necesaria la eliminación de *stop-words*. Sin embargo, si los resultados del entrenamiento y validación no fuesen aceptables, se podría probar a eliminar las *stop-words* para ver si así mejoran.\n",
    "- **Normalización**: como parte de la limpieza del dataset inicial se buscarán ciertas cadenas de texto que se sustituirán por tokens. Como se ha visto no es necesarior realizarlo con URLs ni direcciones de correos. Durante los experimentos de entrenamiento podría realizarse este proceso para números, de tal forma que todos los números queden normalizados al mismo token, ya que no parece que números específicos determinen si un texto es verificable o no. También podría realizarse para fechas. Sería necesario realizar varios experimentos para comparar resultados.\n",
    "- **Dataset**: vista la distribución no equitativa entre textos verificables y no verificables, no se utilizará el dataset al completo, sino que se realizará una selección de los ejemplos no verificables para reducir su número."
   ]
  },
  {
   "cell_type": "markdown",
   "metadata": {},
   "source": [
    "# Entrenamiento del clasificador\n",
    "\n",
    "En este apartado se procederá a:\n",
    "1. Preprocesado: limpieza y tokenización del texto.\n",
    "2. *Embedding*.\n",
    "3. Separación del modelo en entrenamiento y prueba.\n",
    "4. Entrenamiento.\n",
    "5. Test.\n"
   ]
  },
  {
   "cell_type": "markdown",
   "metadata": {},
   "source": [
    "## Preprocesado\n",
    "\n",
    "Para el preprocesado del texto se realizarán los siguientes pasos:\n",
    "* Dado que se va a utilizar una versión multilingüe preentrenada de BERT sensible a mayúsculas, no es necesario realizar transformaciones de mayúsculas.\n",
    "* Limpieza de patrones específicos y sustitución por tokens: direcciones web, direcciones de corrreos (no hay en el dataset actual, pero en un problema real podría haberlas).\n",
    "* No es necesario limpiar *ñ*, tildes u otros caracteres poco comunes.\n",
    "* En un primer experimento no se eliminarán *stop-words*."
   ]
  },
  {
   "cell_type": "code",
   "execution_count": 30,
   "metadata": {},
   "outputs": [
    {
     "data": {
      "text/html": [
       "<div>\n",
       "<style scoped>\n",
       "    .dataframe tbody tr th:only-of-type {\n",
       "        vertical-align: middle;\n",
       "    }\n",
       "\n",
       "    .dataframe tbody tr th {\n",
       "        vertical-align: top;\n",
       "    }\n",
       "\n",
       "    .dataframe thead th {\n",
       "        text-align: right;\n",
       "    }\n",
       "</style>\n",
       "<table border=\"1\" class=\"dataframe\">\n",
       "  <thead>\n",
       "    <tr style=\"text-align: right;\">\n",
       "      <th></th>\n",
       "      <th>text_es</th>\n",
       "      <th>text_en</th>\n",
       "      <th>text_fr</th>\n",
       "      <th>claim</th>\n",
       "    </tr>\n",
       "  </thead>\n",
       "  <tbody>\n",
       "    <tr>\n",
       "      <th>0</th>\n",
       "      <td>Gracias.</td>\n",
       "      <td>Thank you.</td>\n",
       "      <td>Merci.</td>\n",
       "      <td>0</td>\n",
       "    </tr>\n",
       "    <tr>\n",
       "      <th>1</th>\n",
       "      <td>Entonces como solo creo que es como la política de la casa de todos nosotros ya que aquí no hay milagros y por tanto lo que le diría es que nosotros celebramos el acuerdo de Bruselas, pero que el Gobierno tendrá que cambiar su modelo, su modelo de política en todo lo que tiene que ver desde lue...</td>\n",
       "      <td>So as I just think it's like the politics of the house of all of us because there are no miracles here and therefore what I would tell you is that we celebrate the Brussels agreement, but that the Government will have to change its model, its model of policy in everything that has certainly to ...</td>\n",
       "      <td>Donc, comme je pense que c’est comme la politique de la maison de chacun d’entre nous parce qu’il n’y a pas de miracles ici et donc ce que je vous dirais, c’est que nous célébrons l’accord de Bruxelles, mais que le gouvernement devra changer son modèle, son modèle de politique dans tout ce qui ...</td>\n",
       "      <td>0</td>\n",
       "    </tr>\n",
       "    <tr>\n",
       "      <th>2</th>\n",
       "      <td>Y pienso que el Partido Popular no ha estado a la altura de las circunstancias.</td>\n",
       "      <td>And I think the People's Party has not risen to the occasion.</td>\n",
       "      <td>Et je pense que le Parti populaire n’a pas été à la hauteur.</td>\n",
       "      <td>0</td>\n",
       "    </tr>\n",
       "    <tr>\n",
       "      <th>3</th>\n",
       "      <td>Lo siguiente Nos vamos ya volando y les dejo con los informativos de la Sexta Noticias con Ana cuesta toda la información durante todo el día.</td>\n",
       "      <td>The next thing We fly and I leave you with the news of the Sixth News with Ana costs all the information throughout the day.</td>\n",
       "      <td>La prochaine chose que nous volons et je vous laisse avec les nouvelles de la Sixième Nouvelles avec Ana coûte toutes les informations tout au long de la journée.</td>\n",
       "      <td>0</td>\n",
       "    </tr>\n",
       "    <tr>\n",
       "      <th>4</th>\n",
       "      <td>Mala noticia para para el el mundo verde, para el ecologismo.</td>\n",
       "      <td>Bad news for the green world, for environmentalism.</td>\n",
       "      <td>Mauvaise nouvelle pour le monde vert, pour l’environnementalisme.</td>\n",
       "      <td>0</td>\n",
       "    </tr>\n",
       "  </tbody>\n",
       "</table>\n",
       "</div>"
      ],
      "text/plain": [
       "                                                                                                                                                                                                                                                                                                       text_es  \\\n",
       "0                                                                                                                                                                                                                                                                                                     Gracias.   \n",
       "1   Entonces como solo creo que es como la política de la casa de todos nosotros ya que aquí no hay milagros y por tanto lo que le diría es que nosotros celebramos el acuerdo de Bruselas, pero que el Gobierno tendrá que cambiar su modelo, su modelo de política en todo lo que tiene que ver desde lue...   \n",
       "2                                                                                                                                                                                                                              Y pienso que el Partido Popular no ha estado a la altura de las circunstancias.   \n",
       "3                                                                                                                                                               Lo siguiente Nos vamos ya volando y les dejo con los informativos de la Sexta Noticias con Ana cuesta toda la información durante todo el día.   \n",
       "4                                                                                                                                                                                                                                                Mala noticia para para el el mundo verde, para el ecologismo.   \n",
       "\n",
       "                                                                                                                                                                                                                                                                                                       text_en  \\\n",
       "0                                                                                                                                                                                                                                                                                                   Thank you.   \n",
       "1   So as I just think it's like the politics of the house of all of us because there are no miracles here and therefore what I would tell you is that we celebrate the Brussels agreement, but that the Government will have to change its model, its model of policy in everything that has certainly to ...   \n",
       "2                                                                                                                                                                                                                                                And I think the People's Party has not risen to the occasion.   \n",
       "3                                                                                                                                                                                 The next thing We fly and I leave you with the news of the Sixth News with Ana costs all the information throughout the day.   \n",
       "4                                                                                                                                                                                                                                                          Bad news for the green world, for environmentalism.   \n",
       "\n",
       "                                                                                                                                                                                                                                                                                                       text_fr  \\\n",
       "0                                                                                                                                                                                                                                                                                                       Merci.   \n",
       "1   Donc, comme je pense que c’est comme la politique de la maison de chacun d’entre nous parce qu’il n’y a pas de miracles ici et donc ce que je vous dirais, c’est que nous célébrons l’accord de Bruxelles, mais que le gouvernement devra changer son modèle, son modèle de politique dans tout ce qui ...   \n",
       "2                                                                                                                                                                                                                                                 Et je pense que le Parti populaire n’a pas été à la hauteur.   \n",
       "3                                                                                                                                           La prochaine chose que nous volons et je vous laisse avec les nouvelles de la Sixième Nouvelles avec Ana coûte toutes les informations tout au long de la journée.   \n",
       "4                                                                                                                                                                                                                                            Mauvaise nouvelle pour le monde vert, pour l’environnementalisme.   \n",
       "\n",
       "   claim  \n",
       "0      0  \n",
       "1      0  \n",
       "2      0  \n",
       "3      0  \n",
       "4      0  "
      ]
     },
     "execution_count": 30,
     "metadata": {},
     "output_type": "execute_result"
    }
   ],
   "source": [
    "import re\n",
    "\n",
    "# Cleaning function\n",
    "def clean(contents):\n",
    "    # Change URLs\n",
    "    contents = re.compile('(http|https)://[^\\s]*').sub(' <httpaddr> ', contents)\n",
    "    # Chage email addresses\n",
    "    contents = re.compile('[^\\s]+@[^\\s]+').sub(' emailaddr ', contents)\n",
    "    return contents\n",
    "\n",
    "# Cleaning the dataset\n",
    "df[SPANISH_TEXT_COLUMN] = df[SPANISH_TEXT_COLUMN].map(clean, na_action='ignore').astype(str)\n",
    "df[ENGLISH_TEXT_COLUMN] = df[ENGLISH_TEXT_COLUMN].map(clean, na_action='ignore').astype(str)\n",
    "df[FRENCH_TEXT_COLUMN] = df[FRENCH_TEXT_COLUMN].map(clean, na_action='ignore').astype(str)\n",
    "df.head()"
   ]
  },
  {
   "cell_type": "markdown",
   "metadata": {},
   "source": [
    "## *Train* y *Test*\n",
    "\n",
    "Debido a que el número de ejemplos de una tipología es bastante mayor al de la otra, y ya que se busca entrenar un modelo multiligüe y disponemos de datos en tres idiomas, se va a seguir la siguiente estrategia para formar el conjunto de entrenamiento:\n",
    "1. Se creará un nuevo dataset con solo dos columnas. Una columna con el texto (que puede estar en cualquiera de los tres idiomas) y otra con la columna a predecir.\n",
    "2. Para los ejemplos de frases no verificables *(claim=0)*, se escogerá para incluir en el nuevo dataset la frase en uno solo de los idiomas, alternando entre idiomas para cada fila, de tal manera que haya un número similar de frase no verificables de cada idioma.\n",
    "3. Para los ejemplos de frases verificables, que son minoría, se incluirá en el nuevo dataset la frase traducida en los tres idiomas. De esta forma, cada entrada de frase verificable del dataset original  producirá tres entradas, se incrementará su número por tres.\n",
    "4. De este nuevo dataset, se escogerán aleatoriamente un 80% del dataset como entrenamiento, y se dejará el 20% como test. Asimismo, si fuese necesario validar con un porcentaje mayor, se podrán utilizar las frases no verificables en varios idiomas descartadas en el paso 2."
   ]
  },
  {
   "cell_type": "code",
   "execution_count": 2,
   "metadata": {},
   "outputs": [
    {
     "data": {
      "text/plain": [
       "<matplotlib.axes._subplots.AxesSubplot at 0x21b45266888>"
      ]
     },
     "execution_count": 2,
     "metadata": {},
     "output_type": "execute_result"
    },
    {
     "data": {
      "image/png": "[encoded data removed]",
      "text/plain": [
       "<Figure size 432x288 with 1 Axes>"
      ]
     },
     "metadata": {
      "needs_background": "light"
     },
     "output_type": "display_data"
    }
   ],
   "source": [
    "TEXT_COLUMN = 'text'\n",
    "OUT_NEW_CSV_PATH = './resources/new_claims.csv'\n",
    "\n",
    "# Loop through the dataframe\n",
    "new_dataframe = pd.DataFrame()\n",
    "non_claim_dataframe = pd.DataFrame()\n",
    "i = 1\n",
    "for index, row in df.iterrows():\n",
    "    # If claim=1 we add the sentence to the new dataframe usint the three different languages\n",
    "    if row[CLAIM_COLUMN] == 1:\n",
    "        data = pd.DataFrame({TEXT_COLUMN: [row[SPANISH_TEXT_COLUMN]], CLAIM_COLUMN:  [row[CLAIM_COLUMN]]})\n",
    "        new_dataframe = new_dataframe.append(data)\n",
    "        data = pd.DataFrame({TEXT_COLUMN: [row[ENGLISH_TEXT_COLUMN]], CLAIM_COLUMN:  [row[CLAIM_COLUMN]]})\n",
    "        new_dataframe = new_dataframe.append(data)\n",
    "        data = pd.DataFrame({TEXT_COLUMN: [row[FRENCH_TEXT_COLUMN]], CLAIM_COLUMN:  [row[CLAIM_COLUMN]]})\n",
    "        new_dataframe = new_dataframe.append(data)\n",
    "    # If claim=1 we add the sentence alternating between the languages\n",
    "    elif row[CLAIM_COLUMN] == 0:\n",
    "        if i%3==0:\n",
    "            data = pd.DataFrame({TEXT_COLUMN: [row[SPANISH_TEXT_COLUMN]], CLAIM_COLUMN:  [row[CLAIM_COLUMN]]})\n",
    "        elif i%3==1:\n",
    "            data = pd.DataFrame({TEXT_COLUMN: [row[ENGLISH_TEXT_COLUMN]], CLAIM_COLUMN:  [row[CLAIM_COLUMN]]})\n",
    "        elif i%3==2:\n",
    "            data = pd.DataFrame({TEXT_COLUMN: [row[FRENCH_TEXT_COLUMN]], CLAIM_COLUMN:  [row[CLAIM_COLUMN]]})\n",
    "        non_claim_dataframe = non_claim_dataframe.append(data)\n",
    "    i = i+1\n",
    "    \n",
    "# We are left with a fraction of the negative examples. We use the whole set in this case\n",
    "non_claim_dataframe = non_claim_dataframe.sample(frac=1.0)\n",
    "new_dataframe = pd.concat([new_dataframe, non_claim_dataframe])\n",
    "\n",
    "# We write the new dataframe to csv so that this process does not have to be repeated  \n",
    "new_dataframe.to_csv(OUT_NEW_CSV_PATH, sep=',', encoding='utf-8')\n",
    "new_dataframe[CLAIM_COLUMN].hist()"
   ]
  },
  {
   "cell_type": "code",
   "execution_count": 3,
   "metadata": {},
   "outputs": [],
   "source": [
    "import numpy as np\n",
    "\n",
    "# Split in to train and test datasets\n",
    "msk = np.random.rand(len(new_dataframe)) < 0.8\n",
    "train = new_dataframe[msk].to_numpy()\n",
    "test = new_dataframe[~msk].to_numpy()"
   ]
  },
  {
   "cell_type": "markdown",
   "metadata": {},
   "source": [
    "## Entrenamiento\n",
    "\n",
    "El entrenamiento del modelo se realizará utilizando Keras, y de una manera similar a las que se encuentran en https://stackabuse.com/text-classification-with-bert-tokenizer-and-tf-2-0-in-python/ y https://www.tensorflow.org/tutorials/text/classify_text_with_bert, ya que ambos problemas comparten características, como la utilización de Bert y el querer realizar una clasificación binaria.\n",
    "\n",
    "Para realizar en entrenamiento se ha decido utilizar Tensorflow y Keras. Son librerías más complejas de utilizar con respecto a Sklearn, pero ofrecen una capacidad de *customización* del modelo mucho mayor."
   ]
  },
  {
   "cell_type": "markdown",
   "metadata": {},
   "source": [
    "### Tokenización y embedding\n",
    "\n",
    "En este apartado se realiza:\n",
    "1. La carga del modelo Bert preentrenado multilingüe sensible a mayúsculas.\n",
    "2. Tokenización y *embedding* de los textos utilizando el modelo anterior.\n",
    "3. Se igualan las longitudes de los vectores.\n",
    "4. Transformación del resultado al dataset de Tensorflow"
   ]
  },
  {
   "cell_type": "code",
   "execution_count": 4,
   "metadata": {},
   "outputs": [],
   "source": [
    "import tensorflow as tf\n",
    "import tensorflow_hub as hub\n",
    "from tensorflow.keras import layers\n",
    "import bert\n",
    "from transformers import AutoTokenizer\n",
    "\n",
    "# Constants\n",
    "BERT_TOKENIZER_MODEL = 'bert-base-multilingual-cased'\n",
    "\n",
    "tokenizer = AutoTokenizer.from_pretrained(BERT_TOKENIZER_MODEL)"
   ]
  },
  {
   "cell_type": "code",
   "execution_count": 5,
   "metadata": {},
   "outputs": [],
   "source": [
    "DATASET_BATCH_SIZE = 32\n",
    "\n",
    "def tokenize_text(text):\n",
    "    return tokenizer.convert_tokens_to_ids(tokenizer.tokenize(text))\n",
    "\n",
    "\n",
    "def create_tf_dataset(dataset):\n",
    "    tokenized_dataset = [tokenize_text(text) for text in dataset[:,0]]\n",
    "    \n",
    "    # Different texts have different lenghts\n",
    "    texts_with_len = [[text, dataset[i,1], len(text)]\n",
    "                     for i, text in enumerate(tokenized_dataset)]\n",
    "\n",
    "    # Sort the texts by lenght\n",
    "    texts_with_len.sort(key=lambda x: x[2])\n",
    "    # Remove the length\n",
    "    sorted_text_labels = [(text_lab[0], text_lab[1]) for text_lab in texts_with_len]\n",
    "\n",
    "    # Dataset to tf2 format\n",
    "    processed_dataset = tf.data.Dataset.from_generator(lambda: sorted_text_labels, output_types=(tf.int32, tf.int32))\n",
    "\n",
    "    # Padding to solve the length difference problem\n",
    "    batched_dataset = processed_dataset.padded_batch(DATASET_BATCH_SIZE, padded_shapes=((None, ), ()))\n",
    "    return batched_dataset"
   ]
  },
  {
   "cell_type": "markdown",
   "metadata": {},
   "source": [
    "### Modelo\n",
    "\n",
    "El modelo que se utilizará es una CNN:\n",
    "- Dos capas de convolución. Para los datos disponibles será suficiente e incluso puede que provoquen un sobreajuste. El tamaño de kernel de estas capas será mínimo.\n",
    "- Una capa de *pooling* para consolidar el aprendizaje.\n",
    "- Una capa densa con activación relu seguida de una capa *Dropout* para evitar el sobreajuste.\n",
    "- Una capa Densa final con activación sigmoide para obtener el resultado de la clasificación binaria final.\n",
    "\n",
    "Como las CNN aprenden muy rápido y el dataset del que se dispone no es muy grande, el número de *epochs* que se usa será pequeño."
   ]
  },
  {
   "cell_type": "code",
   "execution_count": 6,
   "metadata": {},
   "outputs": [],
   "source": [
    "class TEXT_MODEL(tf.keras.Model):\n",
    "    \n",
    "    def __init__(self,\n",
    "                 vocabulary_size,\n",
    "                 embedding_dimensions=128,\n",
    "                 cnn_filters=50,\n",
    "                 dnn_units=512,\n",
    "                 model_output_classes=2,\n",
    "                 dropout_rate=0.1,\n",
    "                 training=False,\n",
    "                 cnn_kernel_size=1,\n",
    "                 name=\"text_model\"):\n",
    "        super(TEXT_MODEL, self).__init__(name=name)\n",
    "        \n",
    "        self.embedding = layers.Embedding(vocabulary_size,\n",
    "                                          embedding_dimensions)\n",
    "        self.cnn_layer1 = layers.Conv1D(filters=cnn_filters,\n",
    "                                        kernel_size=cnn_kernel_size,\n",
    "                                        padding=\"valid\",\n",
    "                                        activation=\"relu\")\n",
    "        self.cnn_layer2 = layers.Conv1D(filters=cnn_filters,\n",
    "                                        kernel_size=cnn_kernel_size,\n",
    "                                        padding=\"valid\",\n",
    "                                        activation=\"relu\")\n",
    "        self.pool = layers.GlobalMaxPool1D()\n",
    "        \n",
    "        self.dense_1 = layers.Dense(units=dnn_units, activation=\"relu\")\n",
    "        self.dropout = layers.Dropout(rate=dropout_rate)\n",
    "        self.last_dense = layers.Dense(units=1,\n",
    "                                           activation=\"sigmoid\")\n",
    "    \n",
    "    def call(self, inputs, training):\n",
    "        l = self.embedding(inputs)\n",
    "        l_1 = self.cnn_layer1(l) \n",
    "        l_1 = self.pool(l_1) \n",
    "        l_2 = self.cnn_layer2(l) \n",
    "        l_2 = self.pool(l_2)\n",
    "        \n",
    "        concatenated = tf.concat([l_1, l_2], axis=-1) # (batch_size, 2 * cnn_filters)\n",
    "        concatenated = self.dense_1(concatenated)\n",
    "        concatenated = self.dropout(concatenated, training)\n",
    "        model_output = self.last_dense(concatenated)\n",
    "        \n",
    "        return model_output\n",
    "    \n",
    "\n",
    "VOCAB_LENGTH = len(tokenizer.vocab)\n",
    "EMB_DIM = 200\n",
    "CNN_FILTERS = 100\n",
    "DNN_UNITS = 256\n",
    "\n",
    "DROPOUT_RATE = 0.2\n",
    "\n",
    "NB_EPOCHS = 4\n",
    "\n",
    "text_model = TEXT_MODEL(vocabulary_size=VOCAB_LENGTH,\n",
    "                        embedding_dimensions=EMB_DIM,\n",
    "                        cnn_filters=CNN_FILTERS,\n",
    "                        dnn_units=DNN_UNITS,\n",
    "                        model_output_classes=2,\n",
    "                        dropout_rate=DROPOUT_RATE,\n",
    "                       cnn_kernel_size=1)\n",
    "\n",
    "text_model.compile(loss=\"binary_crossentropy\",\n",
    "                       optimizer=\"adam\",\n",
    "                       metrics=[\"accuracy\"])"
   ]
  },
  {
   "cell_type": "markdown",
   "metadata": {},
   "source": [
    "### Ejecución del entrenamiento"
   ]
  },
  {
   "cell_type": "code",
   "execution_count": 7,
   "metadata": {},
   "outputs": [
    {
     "name": "stdout",
     "output_type": "stream",
     "text": [
      "Epoch 1/4\n",
      "413/413 [==============================] - 14s 26ms/step - loss: 0.4044 - accuracy: 0.8293\n",
      "Epoch 2/4\n",
      "413/413 [==============================] - 6s 13ms/step - loss: 0.2216 - accuracy: 0.9159\n",
      "Epoch 3/4\n",
      "413/413 [==============================] - 6s 14ms/step - loss: 0.0920 - accuracy: 0.9677\n",
      "Epoch 4/4\n",
      "413/413 [==============================] - 6s 13ms/step - loss: 0.0306 - accuracy: 0.9914\n",
      "INFO:tensorflow:Assets written to: claims_beto_text_model\\assets\n"
     ]
    }
   ],
   "source": [
    "from tensorflow.compat.v1 import ConfigProto\n",
    "from tensorflow.compat.v1 import InteractiveSession\n",
    "config = ConfigProto()\n",
    "config.gpu_options.allow_growth = True\n",
    "session = InteractiveSession(config=config)\n",
    "\n",
    "SAVED_MODEL = 'claims_beto_text_model'\n",
    "\n",
    "batched_dataset = create_tf_dataset(train)\n",
    "text_model.fit(batched_dataset, epochs=NB_EPOCHS)\n",
    "\n",
    "text_model.save(SAVED_MODEL)"
   ]
  },
  {
   "cell_type": "markdown",
   "metadata": {},
   "source": [
    "El entrenamiento ha alcanzado un *accuracy* de 0.99 con tan solo 4 *epochs*. Es un porcentaje muy alto y seguramente indique cierto grado de sobreajuste."
   ]
  },
  {
   "cell_type": "markdown",
   "metadata": {},
   "source": [
    "### Evaluación"
   ]
  },
  {
   "cell_type": "code",
   "execution_count": 8,
   "metadata": {},
   "outputs": [
    {
     "name": "stdout",
     "output_type": "stream",
     "text": [
      "103/103 [==============================] - 1s 7ms/step - loss: 0.4550 - accuracy: 0.8746\n",
      "[0.45498916506767273, 0.874618649482727]\n"
     ]
    }
   ],
   "source": [
    "test_dataset = create_tf_dataset(test)\n",
    "results = text_model.evaluate(test_dataset)\n",
    "print(results)"
   ]
  },
  {
   "cell_type": "markdown",
   "metadata": {},
   "source": [
    "La evaluación da un nivel de acierto bastante alto, pero no hay que confiarse. Debido a la gran cantidad de ejemplos negativos y al pequeño número de positivos podría darse el caso de que el clasificador no estuviera funcionando realmente y esté prediciendo todo como negativo, acertando así en un gran porcentaje.\n",
    "\n",
    "Es necesario realizar un estudio más detallado, que se realizará en el siguiente apartado."
   ]
  },
  {
   "cell_type": "markdown",
   "metadata": {},
   "source": [
    "# Estudio de resultados\n",
    "\n",
    "En este apartado se realiza un estudio de la solución y los resultados. Esto incluye un desglose de los aciertos y los fallos en el conjunto de validación, y un análisis del funcionamiento del clasificador con respecto al dataset completo original (recordemos que se descartaron ejemplos negativos en distintos idiomas)."
   ]
  },
  {
   "cell_type": "markdown",
   "metadata": {},
   "source": [
    "### Matriz de confusión para conjunto de validación\n",
    "\n",
    "Para poder evaluar realmente el funcionamiento del clasificador con el conjunto de validación se va calcular la matriz de confusión."
   ]
  },
  {
   "cell_type": "code",
   "execution_count": 9,
   "metadata": {},
   "outputs": [
    {
     "data": {
      "image/png": "[encoded data removed]",
      "text/plain": [
       "<Figure size 432x288 with 2 Axes>"
      ]
     },
     "metadata": {},
     "output_type": "display_data"
    }
   ],
   "source": [
    "from sklearn.metrics import confusion_matrix\n",
    "import matplotlib.pyplot as plt\n",
    "import seaborn as sn\n",
    "\n",
    "def predict_and_show_matrix(test_dataset, text_model):\n",
    "    real_claims = np.concatenate([y for x, y in test_dataset], axis=0).tolist()\n",
    "    predictions = text_model.predict(test_dataset)\n",
    "    predictions = np.where(predictions[:,0] <= 0.5, 0, 1).tolist()\n",
    "\n",
    "    matrix = confusion_matrix(real_claims, predictions)\n",
    "\n",
    "    df_cm = pd.DataFrame(matrix, range(2), range(2))\n",
    "    sn.set(font_scale=1.4) # for label size\n",
    "    sn.heatmap(df_cm, annot=True, cmap='Blues', fmt='g', annot_kws={\"size\": 16}) # font size\n",
    "    plt.show()\n",
    "\n",
    "predict_and_show_matrix(test_dataset, text_model)"
   ]
  },
  {
   "cell_type": "markdown",
   "metadata": {},
   "source": [
    "Se puede observar que aunque de manera general hay un 87% de acierto, el porcentaje de acierto para los ejemplos positivos es menor y cerca de un 25% de los ejemplos positivos se clasifican de manera incorrecta. El número de falsos positivos no parece alto, sin embargo si se compara con el número de positivos reales también es alto.\n",
    "\n",
    "Es lógico que el número de falsos negativos sea relativamente alto, ya que en el dataset utilizado para entrenar había una gran cantidad de ejemplos negativos.\n",
    "Posibles soluciones para esto incluyen:\n",
    "- Reducir todavía más el número de ejemplos negativos utilizados para entrenar. Aunque esto podría aumentar el número de falsos positivos.\n",
    "- Retocar los parámetros del modelo y el número de iteraciones utilizadas para reducir el sobreajuste.\n",
    "- Probar con un modelo diferente (una red neuronal no CNN, etc.)\n",
    "- Diseñar funciones *ad-hoc* de activación para reducir el número de falsos negativos o de falsos positivos, haciendo un estudio de cual de estos fenómenos tiene un mayor impacto negativo en el proyecto y tomando en base a esto una decisión."
   ]
  },
  {
   "cell_type": "markdown",
   "metadata": {},
   "source": [
    "### Funcionamiento del modelo para el conjunto original completo\n",
    "\n",
    "Debido a que para el entrenamiento se descartaron una gran cantidad de ejemplos en varios idiomas, ahora se procede a evaluar el conjunto inicial en su totalidad, haciendo un estudio similar al realizado con el conjunto de validación pero añadiendo comprobaciones por idioma, para cercionarnos de que el modelo funciona de manera similar en todos los idiomas.\n",
    "\n",
    "Se comienza transformando el dataset incial al completo al formato que se ha seguido al entrenar para poder evaluarlo."
   ]
  },
  {
   "cell_type": "code",
   "execution_count": 10,
   "metadata": {},
   "outputs": [
    {
     "data": {
      "text/html": [
       "<div>\n",
       "<style scoped>\n",
       "    .dataframe tbody tr th:only-of-type {\n",
       "        vertical-align: middle;\n",
       "    }\n",
       "\n",
       "    .dataframe tbody tr th {\n",
       "        vertical-align: top;\n",
       "    }\n",
       "\n",
       "    .dataframe thead th {\n",
       "        text-align: right;\n",
       "    }\n",
       "</style>\n",
       "<table border=\"1\" class=\"dataframe\">\n",
       "  <thead>\n",
       "    <tr style=\"text-align: right;\">\n",
       "      <th></th>\n",
       "      <th>text</th>\n",
       "      <th>claim</th>\n",
       "    </tr>\n",
       "  </thead>\n",
       "  <tbody>\n",
       "    <tr>\n",
       "      <th>0</th>\n",
       "      <td>Gracias.</td>\n",
       "      <td>0</td>\n",
       "    </tr>\n",
       "    <tr>\n",
       "      <th>1</th>\n",
       "      <td>Entonces como solo creo que es como la políti...</td>\n",
       "      <td>0</td>\n",
       "    </tr>\n",
       "    <tr>\n",
       "      <th>2</th>\n",
       "      <td>Y pienso que el Partido Popular no ha estado ...</td>\n",
       "      <td>0</td>\n",
       "    </tr>\n",
       "    <tr>\n",
       "      <th>3</th>\n",
       "      <td>Lo siguiente Nos vamos ya volando y les dejo ...</td>\n",
       "      <td>0</td>\n",
       "    </tr>\n",
       "    <tr>\n",
       "      <th>4</th>\n",
       "      <td>Mala noticia para para el el mundo verde, par...</td>\n",
       "      <td>0</td>\n",
       "    </tr>\n",
       "    <tr>\n",
       "      <th>...</th>\n",
       "      <td>...</td>\n",
       "      <td>...</td>\n",
       "    </tr>\n",
       "    <tr>\n",
       "      <th>43054</th>\n",
       "      <td>Au cours des derniers mois, nous avons présen...</td>\n",
       "      <td>0</td>\n",
       "    </tr>\n",
       "    <tr>\n",
       "      <th>43055</th>\n",
       "      <td>L’oasis du système de santé, en plus de donne...</td>\n",
       "      <td>0</td>\n",
       "    </tr>\n",
       "    <tr>\n",
       "      <th>43056</th>\n",
       "      <td>Eh bien, je pose des questions sur les inform...</td>\n",
       "      <td>0</td>\n",
       "    </tr>\n",
       "    <tr>\n",
       "      <th>43057</th>\n",
       "      <td>Comment pensez-vous que cela affecte la Couro...</td>\n",
       "      <td>0</td>\n",
       "    </tr>\n",
       "    <tr>\n",
       "      <th>43058</th>\n",
       "      <td>Il n’est pas normal que le chef de l’Etat s’e...</td>\n",
       "      <td>0</td>\n",
       "    </tr>\n",
       "  </tbody>\n",
       "</table>\n",
       "<p>43059 rows × 2 columns</p>\n",
       "</div>"
      ],
      "text/plain": [
       "                                                    text claim\n",
       "0                                               Gracias.     0\n",
       "1       Entonces como solo creo que es como la políti...     0\n",
       "2       Y pienso que el Partido Popular no ha estado ...     0\n",
       "3       Lo siguiente Nos vamos ya volando y les dejo ...     0\n",
       "4       Mala noticia para para el el mundo verde, par...     0\n",
       "...                                                  ...   ...\n",
       "43054   Au cours des derniers mois, nous avons présen...     0\n",
       "43055   L’oasis du système de santé, en plus de donne...     0\n",
       "43056   Eh bien, je pose des questions sur les inform...     0\n",
       "43057   Comment pensez-vous que cela affecte la Couro...     0\n",
       "43058   Il n’est pas normal que le chef de l’Etat s’e...     0\n",
       "\n",
       "[43059 rows x 2 columns]"
      ]
     },
     "execution_count": 10,
     "metadata": {},
     "output_type": "execute_result"
    }
   ],
   "source": [
    "full_dataframe = pd.DataFrame(columns=[TEXT_COLUMN, CLAIM_COLUMN])\n",
    "renamed_sp = df.rename(columns={SPANISH_TEXT_COLUMN: TEXT_COLUMN}, inplace=False)\n",
    "full_dataframe = full_dataframe.append(renamed_sp[[TEXT_COLUMN,CLAIM_COLUMN]]).reset_index(drop=True)\n",
    "renamed_en = df.rename(columns={ENGLISH_TEXT_COLUMN: TEXT_COLUMN}, inplace=False)\n",
    "full_dataframe = full_dataframe.append(renamed_en[[TEXT_COLUMN,CLAIM_COLUMN]]).reset_index(drop=True)\n",
    "renamed_fr = df.rename(columns={FRENCH_TEXT_COLUMN: TEXT_COLUMN}, inplace=False)\n",
    "full_dataframe = full_dataframe.append(renamed_fr[[TEXT_COLUMN,CLAIM_COLUMN]]).reset_index(drop=True)\n",
    "full_dataframe"
   ]
  },
  {
   "cell_type": "markdown",
   "metadata": {},
   "source": [
    "Calculamos la matriz de confusión para el dataset al completo:"
   ]
  },
  {
   "cell_type": "code",
   "execution_count": 11,
   "metadata": {},
   "outputs": [
    {
     "data": {
      "image/png": "[encoded data removed]",
      "text/plain": [
       "<Figure size 432x288 with 2 Axes>"
      ]
     },
     "metadata": {},
     "output_type": "display_data"
    }
   ],
   "source": [
    "full_test_dataset = create_tf_dataset(full_dataframe.to_numpy())\n",
    "predict_and_show_matrix(full_test_dataset, text_model)"
   ]
  },
  {
   "cell_type": "markdown",
   "metadata": {},
   "source": [
    "Podemos ver que el número de falsos positivos se mantiene en un nivel parecido al encontrado en el conjunto de validación. Sin embargo lo preocupante es el número de falsos negativos, su número es mayor incluso que el de los positivos realmente acertados.\n",
    "\n",
    "Para comprobar si el modelo entrenado es realmente multilingüe y que estos problemas no los está causando un idioma en particular, vamos a realizar este mismo estudio de manera separada para cada idioma."
   ]
  },
  {
   "cell_type": "code",
   "execution_count": 12,
   "metadata": {},
   "outputs": [
    {
     "data": {
      "image/png": "[encoded data removed]",
      "text/plain": [
       "<Figure size 432x288 with 2 Axes>"
      ]
     },
     "metadata": {},
     "output_type": "display_data"
    }
   ],
   "source": [
    "\n",
    "'''\n",
    "Function that creates a dataframe with the texts of a particular language, applies the model and shows the confusion matrix\n",
    "for the predictions\n",
    "'''\n",
    "def predict_and_show_matrix_by_lang(text_model, original_dataframe, lang_column):\n",
    "    lang_dataframe = pd.DataFrame(columns=[TEXT_COLUMN, CLAIM_COLUMN])\n",
    "    renamed_lang = original_dataframe.rename(columns={lang_column: TEXT_COLUMN}, inplace=False)\n",
    "    lang_dataframe = lang_dataframe.append(renamed_lang[[TEXT_COLUMN,CLAIM_COLUMN]]).reset_index(drop=True)\n",
    "\n",
    "    lang_test_dataset = create_tf_dataset(lang_dataframe.to_numpy())\n",
    "    predict_and_show_matrix(lang_test_dataset, text_model)\n",
    "    \n",
    "predict_and_show_matrix_by_lang(text_model, df, SPANISH_TEXT_COLUMN)"
   ]
  },
  {
   "cell_type": "code",
   "execution_count": 13,
   "metadata": {},
   "outputs": [
    {
     "data": {
      "image/png": "[encoded data removed]",
      "text/plain": [
       "<Figure size 432x288 with 2 Axes>"
      ]
     },
     "metadata": {},
     "output_type": "display_data"
    }
   ],
   "source": [
    "predict_and_show_matrix_by_lang(text_model, df, ENGLISH_TEXT_COLUMN)"
   ]
  },
  {
   "cell_type": "code",
   "execution_count": 14,
   "metadata": {},
   "outputs": [
    {
     "data": {
      "image/png": "[encoded data removed]",
      "text/plain": [
       "<Figure size 432x288 with 2 Axes>"
      ]
     },
     "metadata": {},
     "output_type": "display_data"
    }
   ],
   "source": [
    "predict_and_show_matrix_by_lang(text_model, df, FRENCH_TEXT_COLUMN)"
   ]
  },
  {
   "cell_type": "markdown",
   "metadata": {},
   "source": [
    "En las tres anteriores matrices de confusión se puede ver que el modelo funciona de manera similar para los tres idiomas.\n",
    "\n",
    "### Análisis de falsos positivos\n",
    "\n",
    "A continuación se realizará un análisis similar al realizado en el estudio inicial de exploración del dataset, en el que se buscarán las palabras más repetidas para los falsos negativos y su contexto, para buscar algún patrón común por el que el clasificador no esté funcionando correctamente.\n",
    "\n",
    "Se crea un dataset añadiendo la columna relativa a la predicción:"
   ]
  },
  {
   "cell_type": "code",
   "execution_count": 23,
   "metadata": {},
   "outputs": [
    {
     "name": "stdout",
     "output_type": "stream",
     "text": [
      "0                                             Gracias.\n",
      "1     Entonces como solo creo que es como la políti...\n",
      "2     Y pienso que el Partido Popular no ha estado ...\n",
      "3     Lo siguiente Nos vamos ya volando y les dejo ...\n",
      "4     Mala noticia para para el el mundo verde, par...\n",
      "Name: text, dtype: object\n"
     ]
    },
    {
     "data": {
      "text/html": [
       "<div>\n",
       "<style scoped>\n",
       "    .dataframe tbody tr th:only-of-type {\n",
       "        vertical-align: middle;\n",
       "    }\n",
       "\n",
       "    .dataframe tbody tr th {\n",
       "        vertical-align: top;\n",
       "    }\n",
       "\n",
       "    .dataframe thead th {\n",
       "        text-align: right;\n",
       "    }\n",
       "</style>\n",
       "<table border=\"1\" class=\"dataframe\">\n",
       "  <thead>\n",
       "    <tr style=\"text-align: right;\">\n",
       "      <th></th>\n",
       "      <th>text</th>\n",
       "      <th>claim</th>\n",
       "      <th>claim_predicted</th>\n",
       "    </tr>\n",
       "  </thead>\n",
       "  <tbody>\n",
       "    <tr>\n",
       "      <th>43054</th>\n",
       "      <td>Procureur de l’homme Pues, qui appelle le pro...</td>\n",
       "      <td>0</td>\n",
       "      <td>0</td>\n",
       "    </tr>\n",
       "    <tr>\n",
       "      <th>43055</th>\n",
       "      <td>Por eso la coalición Partido Popular Ciudadan...</td>\n",
       "      <td>0</td>\n",
       "      <td>0</td>\n",
       "    </tr>\n",
       "    <tr>\n",
       "      <th>43056</th>\n",
       "      <td>That is why the Coalition People's Citizens P...</td>\n",
       "      <td>0</td>\n",
       "      <td>0</td>\n",
       "    </tr>\n",
       "    <tr>\n",
       "      <th>43057</th>\n",
       "      <td>C’est pourquoi le Parti des citoyens du peupl...</td>\n",
       "      <td>0</td>\n",
       "      <td>0</td>\n",
       "    </tr>\n",
       "    <tr>\n",
       "      <th>43058</th>\n",
       "      <td>Eh bien, bonjour avec nous semblons à quelque...</td>\n",
       "      <td>0</td>\n",
       "      <td>0</td>\n",
       "    </tr>\n",
       "  </tbody>\n",
       "</table>\n",
       "</div>"
      ],
      "text/plain": [
       "                                                    text  claim  \\\n",
       "43054   Procureur de l’homme Pues, qui appelle le pro...      0   \n",
       "43055   Por eso la coalición Partido Popular Ciudadan...      0   \n",
       "43056   That is why the Coalition People's Citizens P...      0   \n",
       "43057   C’est pourquoi le Parti des citoyens du peupl...      0   \n",
       "43058   Eh bien, bonjour avec nous semblons à quelque...      0   \n",
       "\n",
       "       claim_predicted  \n",
       "43054                0  \n",
       "43055                0  \n",
       "43056                0  \n",
       "43057                0  \n",
       "43058                0  "
      ]
     },
     "execution_count": 23,
     "metadata": {},
     "output_type": "execute_result"
    }
   ],
   "source": [
    "CLAIM_PREDICTED_COLUMN = 'claim_predicted'\n",
    "OUT_VALIDATION_CSV_PATH = './resources/validation_claims.csv'\n",
    "\n",
    "print(full_dataframe[TEXT_COLUMN].head())\n",
    "text_dataset = full_dataframe[TEXT_COLUMN].to_numpy()\n",
    "texts_with_len = [[text, len(text)] for i, text in enumerate(text_dataset)]\n",
    "texts_with_len.sort(key=lambda x: x[1])\n",
    "real_claims_texts = [t[0] for t in texts_with_len]\n",
    "\n",
    "real_claims = np.concatenate([y for x, y in full_test_dataset], axis=0).tolist()\n",
    "predictions = text_model.predict(full_test_dataset)\n",
    "predictions = np.where(predictions[:,0] <= 0.5, 0, 1).tolist()\n",
    "pred_dc = {TEXT_COLUMN: real_claims_texts, CLAIM_COLUMN: real_claims, CLAIM_PREDICTED_COLUMN: predictions}\n",
    "prediction_df = pd.DataFrame(pred_dc)\n",
    "# We write the dataframe to csv\n",
    "prediction_df.to_csv(OUT_VALIDATION_CSV_PATH, sep=',', encoding='utf-8', index=False)\n",
    "prediction_df.tail()"
   ]
  },
  {
   "cell_type": "markdown",
   "metadata": {},
   "source": [
    "Restringimos a los falsos positivos:"
   ]
  },
  {
   "cell_type": "code",
   "execution_count": 16,
   "metadata": {},
   "outputs": [
    {
     "data": {
      "text/html": [
       "<div>\n",
       "<style scoped>\n",
       "    .dataframe tbody tr th:only-of-type {\n",
       "        vertical-align: middle;\n",
       "    }\n",
       "\n",
       "    .dataframe tbody tr th {\n",
       "        vertical-align: top;\n",
       "    }\n",
       "\n",
       "    .dataframe thead th {\n",
       "        text-align: right;\n",
       "    }\n",
       "</style>\n",
       "<table border=\"1\" class=\"dataframe\">\n",
       "  <thead>\n",
       "    <tr style=\"text-align: right;\">\n",
       "      <th></th>\n",
       "      <th>text</th>\n",
       "      <th>claim</th>\n",
       "      <th>claim_predicted</th>\n",
       "    </tr>\n",
       "  </thead>\n",
       "  <tbody>\n",
       "    <tr>\n",
       "      <th>42912</th>\n",
       "      <td>. Il y a donc aussi des encouragements à ce qu...</td>\n",
       "      <td>0</td>\n",
       "      <td>1</td>\n",
       "    </tr>\n",
       "    <tr>\n",
       "      <th>42934</th>\n",
       "      <td>22 minutes à neuf heures du matin vingt-deux ...</td>\n",
       "      <td>0</td>\n",
       "      <td>1</td>\n",
       "    </tr>\n",
       "    <tr>\n",
       "      <th>42976</th>\n",
       "      <td>So beyond that, we hope that the Government, ...</td>\n",
       "      <td>0</td>\n",
       "      <td>1</td>\n",
       "    </tr>\n",
       "    <tr>\n",
       "      <th>42994</th>\n",
       "      <td>C’est pourquoi il est important que la loi so...</td>\n",
       "      <td>0</td>\n",
       "      <td>1</td>\n",
       "    </tr>\n",
       "    <tr>\n",
       "      <th>43026</th>\n",
       "      <td>Tout d’abord, lorsque nous avons reçu ce juge...</td>\n",
       "      <td>0</td>\n",
       "      <td>1</td>\n",
       "    </tr>\n",
       "  </tbody>\n",
       "</table>\n",
       "</div>"
      ],
      "text/plain": [
       "                                                    text  claim  \\\n",
       "42912  . Il y a donc aussi des encouragements à ce qu...      0   \n",
       "42934   22 minutes à neuf heures du matin vingt-deux ...      0   \n",
       "42976   So beyond that, we hope that the Government, ...      0   \n",
       "42994   C’est pourquoi il est important que la loi so...      0   \n",
       "43026   Tout d’abord, lorsque nous avons reçu ce juge...      0   \n",
       "\n",
       "       claim_predicted  \n",
       "42912                1  \n",
       "42934                1  \n",
       "42976                1  \n",
       "42994                1  \n",
       "43026                1  "
      ]
     },
     "execution_count": 16,
     "metadata": {},
     "output_type": "execute_result"
    }
   ],
   "source": [
    "false_positives_df = prediction_df.loc[(prediction_df[CLAIM_COLUMN]==0) & (prediction_df[CLAIM_PREDICTED_COLUMN]==1)]\n",
    "false_positives_df.tail()"
   ]
  },
  {
   "cell_type": "markdown",
   "metadata": {},
   "source": [
    "Buscamos las palabras más repetidas:"
   ]
  },
  {
   "cell_type": "code",
   "execution_count": 31,
   "metadata": {},
   "outputs": [
    {
     "data": {
      "text/plain": [
       "[('si', 230),\n",
       " ('plus', 177),\n",
       " ('gouvernement', 159),\n",
       " ('parce', 158),\n",
       " ('bien', 157),\n",
       " ('also', 156),\n",
       " ('gobierno', 152),\n",
       " ('cette', 151),\n",
       " ('être', 140),\n",
       " ('government', 140)]"
      ]
     },
     "execution_count": 31,
     "metadata": {},
     "output_type": "execute_result"
    }
   ],
   "source": [
    "most_frequent = n_most_frequent_words(false_positives_df[TEXT_COLUMN].values.astype('U'), 10, 'ALL')\n",
    "most_frequent"
   ]
  },
  {
   "cell_type": "markdown",
   "metadata": {},
   "source": [
    "Podemos ver que las palabras relativas a \"gobierno\" en varios idiomas siguen siendo problemáticas"
   ]
  },
  {
   "cell_type": "code",
   "execution_count": 20,
   "metadata": {},
   "outputs": [
    {
     "name": "stdout",
     "output_type": "stream",
     "text": [
      "-----------------------------\n",
      ". Word:  government\n",
      "-----------------------------\n",
      "Displaying 10 of 131 matches:\n",
      "k 's needs done case.. commitment Government Spain them.. even want take opini\n",
      " Mr. Sanchez going us side.. case Government Spain , be.. regard elections Bas\n",
      "going fall whole.. n't give trust government Pedro Sánchez.. seen throughout p\n",
      "ndments.. great example Andalusia Government Panama.. Come , set 're middle pa\n",
      "and question completely logical.. government always priority , saving lives.. \n",
      "tening Quim Torra.. n't want give government , let 's say real mass.. beginnin\n",
      "urse legal text analyzed.. happen Government Spain move nowhere.. map key sect\n",
      ".. also raised petition President Government Spain.. Well , maybe 're becoming\n",
      "alucía Director Tourism.. believe government sometimes confuses priorities han\n",
      " Spaniards that.. course , assure Government Spain treated something.. course \n",
      "-----------------------------\n",
      ". Word:  gobierno\n",
      "-----------------------------\n",
      "Displaying 10 of 140 matches:\n",
      "a aplicación fármaco ? . planteado Gobierno España.. Justamente pedía colabora\n",
      "cuerdo decía Cristina plató.. caso Gobierno España , puede ser.. artículo cons\n",
      "ación ministra Defensa.. solamente gobierno administraciones públicas.. Rafael\n",
      " hacer PCR.. Señora Belarra , creo Gobierno bajando bien.. quiero fijar indust\n",
      "o.. verdad haciendo sorprendente.. Gobierno después crisis Kobi XIX preparado.\n",
      "nal año.. Usted sabe perfectamente Gobierno mirando lado.. educativo objetivo \n",
      "sted.. , después apoyar tres veces gobierno , dijimos que.. cierto recetas eco\n",
      "plano teórico , dónde puede llegar gobierno Pedro Sánchez ? . , creo palabra m\n",
      "ense fondamentale jours.. pensando Gobierno quitarle despojarle título real Es\n",
      "conomía.. definitiva , alternativa gobierno , alternativa responsable.. proble\n",
      "-----------------------------\n",
      ". Word:  gouvernement\n",
      "-----------------------------\n",
      "Displaying 10 of 147 matches:\n",
      "ules politesse.. Chine annonce.. gouvernement espagnol.. paradojas.. usted dic\n",
      "en ? . Comprenez-vous mesure ? . gouvernement espagnol.. ’ dialogue social.. M\n",
      " pense vraiment encore.. ’ pense gouvernement ? . 126 testés positifs.. forts \n",
      "asque.. ’ ça pense oui.. Comment gouvernement voit-il ? . ’ faut faire plus ’ \n",
      "maintenant , beaucoup prudence.. gouvernement toujours bloqué.. Heute , dos au\n",
      "? peur ’ hôtel ville . président gouvernement ’ dit.. Debe ser rentable si ren\n",
      " Iturgaiz , dit ’ abaisser PCR.. gouvernement espagnol fait contraire.. ’ inqu\n",
      "'re complicated situation.. quoi gouvernement devrait-il être autorisé ? . Tou\n",
      "lleure garantie protéger virus.. gouvernement espagnol tendra toujours main di\n",
      "endra toujours main dialogue.. . gouvernement semble être mauvais gouvernement\n"
     ]
    }
   ],
   "source": [
    "import nltk\n",
    "from nltk.tokenize import word_tokenize\n",
    "from nltk.corpus import stopwords\n",
    "\n",
    "\n",
    "conflictive_words = [\"government\", \"gobierno\", \"gouvernement\"]\n",
    "stops = set.union(set.union(set(stopwords.words(\"spanish\")), set(stopwords.words(\"english\"))),set(stopwords.words(\"french\")))\n",
    "\n",
    "for word in conflictive_words:\n",
    "    text = false_positives_df[TEXT_COLUMN].str.cat(sep='. ')\n",
    "    tokens = word_tokenize(text)\n",
    "    filtered_tokens = [word for word in tokens if word.lower() not in stops]\n",
    "    print(\"-----------------------------\")\n",
    "    print(\". Word: \", word)\n",
    "    print(\"-----------------------------\")\n",
    "    nltk.Text(filtered_tokens).concordance(word, lines=10)"
   ]
  },
  {
   "cell_type": "markdown",
   "metadata": {},
   "source": [
    "A priori, con una muestra tan reducida, no parece que haya ningún patrón facilmente identificable que sirva para explicar de manera inmediata el problema de los falsos positivos.\n",
    "Sin embargo, sí que parece que las frases que contienen la palabra \"gobierno\" en todos los idiomas resultan problemáticas. Ayudaría disponer de más ejemplos negativos que contengan esta palabra, para que así el modelo a entrenar tenga en cuenta más contextos diferentes y se reduzca el número de falsos positivos."
   ]
  },
  {
   "cell_type": "markdown",
   "metadata": {},
   "source": [
    "### Conclusiones\n",
    "\n",
    "Después de realizar el estudio se pueden concluir los siguientes puntos:\n",
    "- El modelo entrenado presenta un porcentaje de acierto alto tanto con el conjunto de entrenamiento, como con el pequeño conjunto de validación, y con el dataset al completo.\n",
    "- Hay un alto procentaje de falsos positivos, posiblemente debido a un sobreajuste con respecto a los ejemplos positivos.\n",
    "- El modelo entrenado es multilingüe, ya que se ha observado un comportamiento similar para los tres diferentes idiomas.\n",
    "\n",
    "Trabajo futuro:\n",
    "- Modificar el conjunto de entrenamiento inicial, añadiendo más ejemplos negativos que contengan la palabra \"gobierno\" y sus variantes en los otros idiomas si es posible, para reducir el número de falsos positivos.\n",
    "- Probar a normalizar números y fechas para entrenar el modelo.\n",
    "- Diseñar una función de activación personalizada para reducir el número de falsos positivos.\n",
    "- Realizar más experimentos, cambiando los parámetros de la red utilizada y utilizando otros modelos de *machine-learning* diferentes.\n",
    "- Se puede incluso pensar en entrenar varios modelos que funcionen en producción de manera simultánea mediante un algoritmo heurístico orquestador que combine los resultados de cada modelo en base a las debilidades y fortalezas identificadas de cada uno."
   ]
  },
  {
   "cell_type": "code",
   "execution_count": null,
   "metadata": {},
   "outputs": [],
   "source": []
  }
 ],
 "metadata": {
  "kernelspec": {
   "display_name": "Python 3",
   "language": "python",
   "name": "python3"
  },
  "language_info": {
   "codemirror_mode": {
    "name": "ipython",
    "version": 3
   },
   "file_extension": ".py",
   "mimetype": "text/x-python",
   "name": "python",
   "nbconvert_exporter": "python",
   "pygments_lexer": "ipython3",
   "version": "3.7.6"
  }
 },
 "nbformat": 4,
 "nbformat_minor": 4
}
